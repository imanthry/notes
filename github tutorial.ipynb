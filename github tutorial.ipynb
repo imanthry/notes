{
 "cells": [
  {
   "attachments": {},
   "cell_type": "markdown",
   "metadata": {},
   "source": [
    "github introduction\n",
    "workflow\n",
    "    create a folder then a file in vscode\n",
    "    then a repository in github\n",
    "    make changes to the file in vs code\n",
    "    commit changes by doing the following\n",
    "        git init\n",
    "        git add .\n",
    "        git commit -m \"\"\n",
    "    then push using the following commands\n",
    "        git remote add origin https://github.com/imanthry/test.git\n",
    "        git branch -M main\n",
    "        git push -u origin main\n",
    "\n",
    "or create a new repository and then copy file from vs code"
   ]
  }
 ],
 "metadata": {
  "kernelspec": {
   "display_name": "Python 3",
   "language": "python",
   "name": "python3"
  },
  "language_info": {
   "name": "python",
   "version": "3.11.1 (tags/v3.11.1:a7a450f, Dec  6 2022, 19:58:39) [MSC v.1934 64 bit (AMD64)]"
  },
  "orig_nbformat": 4,
  "vscode": {
   "interpreter": {
    "hash": "cc027e6809c907dfa06370255038e891bf88f94b01435d59ee112e97588e3a57"
   }
  }
 },
 "nbformat": 4,
 "nbformat_minor": 2
}
